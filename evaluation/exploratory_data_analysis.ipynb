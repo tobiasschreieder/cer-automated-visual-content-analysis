{
 "cells": [
  {
   "cell_type": "markdown",
   "id": "6a5056ea",
   "metadata": {},
   "source": [
    "# Exploratory Data Analysis of Touché 2023 dataset"
   ]
  },
  {
   "cell_type": "code",
   "execution_count": null,
   "id": "c5d606de",
   "metadata": {},
   "outputs": [],
   "source": [
    "import pandas as pd"
   ]
  },
  {
   "cell_type": "code",
   "execution_count": null,
   "id": "57f7a22b",
   "metadata": {},
   "outputs": [],
   "source": [
    "# load dataset\n",
    "dataset = pd.read_pickle(\"working/dataset.pkl\")"
   ]
  },
  {
   "cell_type": "code",
   "execution_count": null,
   "id": "b14b56cd",
   "metadata": {},
   "outputs": [],
   "source": [
    "dataset.head(20)"
   ]
  }
 ],
 "metadata": {
  "kernelspec": {
   "display_name": "Python 3 (ipykernel)",
   "language": "python",
   "name": "python3"
  },
  "language_info": {
   "codemirror_mode": {
    "name": "ipython",
    "version": 3
   },
   "file_extension": ".py",
   "mimetype": "text/x-python",
   "name": "python",
   "nbconvert_exporter": "python",
   "pygments_lexer": "ipython3",
   "version": "3.9.16"
  }
 },
 "nbformat": 4,
 "nbformat_minor": 5
}
