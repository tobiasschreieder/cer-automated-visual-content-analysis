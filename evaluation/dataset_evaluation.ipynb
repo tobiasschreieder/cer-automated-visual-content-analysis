{
 "cells": [
  {
   "cell_type": "markdown",
   "metadata": {},
   "source": [
    "### For setup: change working directory to parent and load config for correct paths"
   ]
  },
  {
   "cell_type": "code",
   "execution_count": 1,
   "metadata": {},
   "outputs": [],
   "source": [
    "import pandas as pd\n",
    "import krippendorff\n",
    "from pathlib import Path\n",
    "import os\n",
    "os.chdir('..')\n",
    "from config import Config\n",
    "cfg = Config.get()"
   ]
  },
  {
   "cell_type": "markdown",
   "metadata": {},
   "source": [
    "Read evaluation files"
   ]
  },
  {
   "cell_type": "code",
   "execution_count": 2,
   "metadata": {},
   "outputs": [],
   "source": [
    "work_path = cfg.working_dir\n",
    "out_path = cfg.output_dir\n",
    "\n",
    "# load evaluation files\n",
    "labels_a = pd.read_csv(work_path.joinpath('image_eval_a.txt'), sep=' ')\n",
    "labels_b = pd.read_csv(work_path.joinpath('image_eval_b.txt'), sep=' ')\n",
    "\n",
    "labels_a.rename(columns={'Topic_correct': 'topic_correct_a'}, inplace=True)\n",
    "labels_b.rename(columns={'Topic_correct': 'topic_correct_b'}, inplace=True)"
   ]
  },
  {
   "cell_type": "markdown",
   "metadata": {},
   "source": [
    "Further preprocessing"
   ]
  },
  {
   "cell_type": "code",
   "execution_count": 3,
   "metadata": {},
   "outputs": [],
   "source": [
    "# merge files, eliminate unwanted records\n",
    "labels = pd.merge(labels_a, labels_b, how='outer', on=['image_id']).dropna() \\\n",
    "    .drop_duplicates(subset='image_id', keep=\"first\")\n",
    "\n",
    "# ensure typing\n",
    "labels['topic_correct_b'] = labels['topic_correct_b'].astype(bool)\n",
    "labels['topic_correct_a'] = labels['topic_correct_a'].astype(bool)\n",
    "\n",
    "# compute agreement between the annotators\n",
    "labels['agree'] = (labels['topic_correct_a'] == labels['topic_correct_b'])"
   ]
  },
  {
   "cell_type": "markdown",
   "metadata": {},
   "source": [
    "#### Compute the intercoder reliability data"
   ]
  },
  {
   "cell_type": "code",
   "execution_count": 4,
   "metadata": {},
   "outputs": [],
   "source": [
    "# create intercoder reliability DataFrame\n",
    "reliability = labels[['Topic_x', 'agree']].groupby(by='Topic_x').sum()\n",
    "sizes = labels[['Topic_x']].groupby(by='Topic_x').size()\n",
    "reliability['size'] = sizes\n",
    "reliability['intercoder_reliability'] = (reliability['agree'] / reliability['size'])\n",
    "\n",
    "reliability = reliability.reset_index().rename(columns={'Topic_x': 'topic_id'})\n",
    "\n",
    "# compute overall values\n",
    "agree_sum = reliability['agree'].sum()\n",
    "size_sum = reliability['size'].sum()\n",
    "ir_all = reliability['agree'].sum() / reliability['size'].sum()\n",
    "reliability.loc[len(reliability)] = ['all', agree_sum, size_sum, ir_all]\n",
    "\n",
    "# compute Krippendorff's Alpha for each topic\n",
    "alphas = []\n",
    "for topic in labels['Topic_x'].unique():\n",
    "    reliability_data = labels.loc[labels['Topic_x'] == topic, ['topic_correct_b', 'topic_correct_a']].astype(int)\n",
    "    ka = krippendorff.alpha(reliability_data.transpose(), level_of_measurement='nominal')\n",
    "    alphas.append(ka)\n",
    "\n",
    "# compute the overall alpha\n",
    "alphas.append(krippendorff.alpha(labels[['topic_correct_b', 'topic_correct_a']].astype(int).transpose(), level_of_measurement='nominal'))\n",
    "\n",
    "# add to reliability dataframe\n",
    "reliability['krippendorff'] = alphas"
   ]
  },
  {
   "cell_type": "markdown",
   "metadata": {},
   "source": [
    "Show reliability results"
   ]
  },
  {
   "cell_type": "code",
   "execution_count": 5,
   "metadata": {},
   "outputs": [
    {
     "data": {
      "text/html": [
       "<div>\n",
       "<style scoped>\n",
       "    .dataframe tbody tr th:only-of-type {\n",
       "        vertical-align: middle;\n",
       "    }\n",
       "\n",
       "    .dataframe tbody tr th {\n",
       "        vertical-align: top;\n",
       "    }\n",
       "\n",
       "    .dataframe thead th {\n",
       "        text-align: right;\n",
       "    }\n",
       "</style>\n",
       "<table border=\"1\" class=\"dataframe\">\n",
       "  <thead>\n",
       "    <tr style=\"text-align: right;\">\n",
       "      <th></th>\n",
       "      <th>topic_id</th>\n",
       "      <th>agree</th>\n",
       "      <th>size</th>\n",
       "      <th>intercoder_reliability</th>\n",
       "      <th>krippendorff</th>\n",
       "    </tr>\n",
       "  </thead>\n",
       "  <tbody>\n",
       "    <tr>\n",
       "      <th>0</th>\n",
       "      <td>51</td>\n",
       "      <td>86</td>\n",
       "      <td>101</td>\n",
       "      <td>0.851485</td>\n",
       "      <td>0.655704</td>\n",
       "    </tr>\n",
       "    <tr>\n",
       "      <th>1</th>\n",
       "      <td>55</td>\n",
       "      <td>90</td>\n",
       "      <td>100</td>\n",
       "      <td>0.900000</td>\n",
       "      <td>0.647413</td>\n",
       "    </tr>\n",
       "    <tr>\n",
       "      <th>2</th>\n",
       "      <td>76</td>\n",
       "      <td>82</td>\n",
       "      <td>100</td>\n",
       "      <td>0.820000</td>\n",
       "      <td>0.478147</td>\n",
       "    </tr>\n",
       "    <tr>\n",
       "      <th>3</th>\n",
       "      <td>81</td>\n",
       "      <td>90</td>\n",
       "      <td>99</td>\n",
       "      <td>0.909091</td>\n",
       "      <td>0.674380</td>\n",
       "    </tr>\n",
       "    <tr>\n",
       "      <th>4</th>\n",
       "      <td>100</td>\n",
       "      <td>87</td>\n",
       "      <td>100</td>\n",
       "      <td>0.870000</td>\n",
       "      <td>0.689025</td>\n",
       "    </tr>\n",
       "    <tr>\n",
       "      <th>5</th>\n",
       "      <td>all</td>\n",
       "      <td>435</td>\n",
       "      <td>500</td>\n",
       "      <td>0.870000</td>\n",
       "      <td>0.636648</td>\n",
       "    </tr>\n",
       "  </tbody>\n",
       "</table>\n",
       "</div>"
      ],
      "text/plain": [
       "  topic_id  agree  size  intercoder_reliability  krippendorff\n",
       "0       51     86   101                0.851485      0.655704\n",
       "1       55     90   100                0.900000      0.647413\n",
       "2       76     82   100                0.820000      0.478147\n",
       "3       81     90    99                0.909091      0.674380\n",
       "4      100     87   100                0.870000      0.689025\n",
       "5      all    435   500                0.870000      0.636648"
      ]
     },
     "execution_count": 5,
     "metadata": {},
     "output_type": "execute_result"
    }
   ],
   "source": [
    "reliability"
   ]
  },
  {
   "cell_type": "markdown",
   "metadata": {},
   "source": [
    "#### Compute the validity data"
   ]
  },
  {
   "cell_type": "code",
   "execution_count": 6,
   "metadata": {},
   "outputs": [],
   "source": [
    "# create topic validity DataFrame\n",
    "# merge annotators evaluations, clean DataFrame\n",
    "validity_b = labels[['Topic_y', 'topic_correct_b']]\n",
    "validity_a = labels[['Topic_x', 'topic_correct_a']]\n",
    "validity = pd.merge(validity_b, validity_a, left_index=True, right_index=True) \\\n",
    "    .drop(columns='Topic_y').rename(columns={'Topic_x': 'topic'})\n",
    "\n",
    "# add column for cases where both annotated true\n",
    "validity['topic_correct_both'] = validity['topic_correct_b'] & validity['topic_correct_a']\n",
    "\n",
    "# sum up by topic and create new columns\n",
    "validity = validity.groupby(by='topic').sum()\n",
    "validity['size'] = sizes\n",
    "validity['percent_correct_b'] = (validity['topic_correct_b'] / validity['size'])\n",
    "validity['percent_correct_a'] = (validity['topic_correct_a'] / validity['size'])\n",
    "validity['percent_correct_both'] = (validity['topic_correct_both'] / validity['size'])\n",
    "\n",
    "validity = validity.reset_index()"
   ]
  },
  {
   "cell_type": "markdown",
   "metadata": {},
   "source": [
    "Show the validity data"
   ]
  },
  {
   "cell_type": "code",
   "execution_count": 7,
   "metadata": {},
   "outputs": [
    {
     "data": {
      "text/html": [
       "<div>\n",
       "<style scoped>\n",
       "    .dataframe tbody tr th:only-of-type {\n",
       "        vertical-align: middle;\n",
       "    }\n",
       "\n",
       "    .dataframe tbody tr th {\n",
       "        vertical-align: top;\n",
       "    }\n",
       "\n",
       "    .dataframe thead th {\n",
       "        text-align: right;\n",
       "    }\n",
       "</style>\n",
       "<table border=\"1\" class=\"dataframe\">\n",
       "  <thead>\n",
       "    <tr style=\"text-align: right;\">\n",
       "      <th></th>\n",
       "      <th>topic</th>\n",
       "      <th>topic_correct_b</th>\n",
       "      <th>topic_correct_a</th>\n",
       "      <th>topic_correct_both</th>\n",
       "      <th>size</th>\n",
       "      <th>percent_correct_b</th>\n",
       "      <th>percent_correct_a</th>\n",
       "      <th>percent_correct_both</th>\n",
       "    </tr>\n",
       "  </thead>\n",
       "  <tbody>\n",
       "    <tr>\n",
       "      <th>0</th>\n",
       "      <td>51</td>\n",
       "      <td>70</td>\n",
       "      <td>69</td>\n",
       "      <td>62</td>\n",
       "      <td>101</td>\n",
       "      <td>0.693069</td>\n",
       "      <td>0.683168</td>\n",
       "      <td>0.613861</td>\n",
       "    </tr>\n",
       "    <tr>\n",
       "      <th>1</th>\n",
       "      <td>55</td>\n",
       "      <td>86</td>\n",
       "      <td>80</td>\n",
       "      <td>78</td>\n",
       "      <td>100</td>\n",
       "      <td>0.860000</td>\n",
       "      <td>0.800000</td>\n",
       "      <td>0.780000</td>\n",
       "    </tr>\n",
       "    <tr>\n",
       "      <th>2</th>\n",
       "      <td>76</td>\n",
       "      <td>86</td>\n",
       "      <td>70</td>\n",
       "      <td>69</td>\n",
       "      <td>100</td>\n",
       "      <td>0.860000</td>\n",
       "      <td>0.700000</td>\n",
       "      <td>0.690000</td>\n",
       "    </tr>\n",
       "    <tr>\n",
       "      <th>3</th>\n",
       "      <td>81</td>\n",
       "      <td>81</td>\n",
       "      <td>84</td>\n",
       "      <td>78</td>\n",
       "      <td>99</td>\n",
       "      <td>0.818182</td>\n",
       "      <td>0.848485</td>\n",
       "      <td>0.787879</td>\n",
       "    </tr>\n",
       "    <tr>\n",
       "      <th>4</th>\n",
       "      <td>100</td>\n",
       "      <td>67</td>\n",
       "      <td>74</td>\n",
       "      <td>64</td>\n",
       "      <td>100</td>\n",
       "      <td>0.670000</td>\n",
       "      <td>0.740000</td>\n",
       "      <td>0.640000</td>\n",
       "    </tr>\n",
       "  </tbody>\n",
       "</table>\n",
       "</div>"
      ],
      "text/plain": [
       "   topic  topic_correct_b  topic_correct_a  topic_correct_both  size  \\\n",
       "0     51               70               69                  62   101   \n",
       "1     55               86               80                  78   100   \n",
       "2     76               86               70                  69   100   \n",
       "3     81               81               84                  78    99   \n",
       "4    100               67               74                  64   100   \n",
       "\n",
       "   percent_correct_b  percent_correct_a  percent_correct_both  \n",
       "0           0.693069           0.683168              0.613861  \n",
       "1           0.860000           0.800000              0.780000  \n",
       "2           0.860000           0.700000              0.690000  \n",
       "3           0.818182           0.848485              0.787879  \n",
       "4           0.670000           0.740000              0.640000  "
      ]
     },
     "execution_count": 7,
     "metadata": {},
     "output_type": "execute_result"
    }
   ],
   "source": [
    "validity"
   ]
  },
  {
   "cell_type": "code",
   "execution_count": null,
   "metadata": {},
   "outputs": [],
   "source": []
  }
 ],
 "metadata": {
  "kernelspec": {
   "display_name": "Python 3",
   "language": "python",
   "name": "python3"
  },
  "language_info": {
   "codemirror_mode": {
    "name": "ipython",
    "version": 3
   },
   "file_extension": ".py",
   "mimetype": "text/x-python",
   "name": "python",
   "nbconvert_exporter": "python",
   "pygments_lexer": "ipython3",
   "version": "3.10.7"
  },
  "orig_nbformat": 4
 },
 "nbformat": 4,
 "nbformat_minor": 2
}
